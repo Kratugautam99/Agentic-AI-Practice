{
 "cells": [
  {
   "cell_type": "code",
   "execution_count": 6,
   "id": "67088a50",
   "metadata": {},
   "outputs": [],
   "source": [
    "from langchain.chat_models import init_chat_model\n",
    "from typing import Annotated\n",
    "from typing_extensions import TypedDict\n",
    "from langgraph.graph import StateGraph, START, END\n",
    "from langgraph.graph.message import add_messages\n",
    "from langchain_core.tools import tool\n",
    "from langgraph.prebuilt import ToolNode, tools_condition\n",
    "from dotenv import load_dotenv\n",
    "load_dotenv()\n",
    "from langgraph.checkpoint.memory import MemorySaver\n",
    "memory = MemorySaver()\n",
    "class State(TypedDict):\n",
    "    messages: Annotated[list, add_messages]"
   ]
  },
  {
   "cell_type": "code",
   "execution_count": 7,
   "id": "bb2425a6",
   "metadata": {},
   "outputs": [],
   "source": [
    "@tool\n",
    "def get_stock_price(symbol: str) -> float:\n",
    "    '''Return the current price of a stock given the stock symbol\n",
    "    :param symbol: stock symbol\n",
    "    :return: current price of the stock\n",
    "    '''\n",
    "    return {\n",
    "        \"MSFT\": 200.3,\n",
    "        \"AAPL\": 100.4,\n",
    "        \"AMZN\": 150.0,\n",
    "        \"RIL\": 87.6\n",
    "    }.get(symbol, 0.0)\n",
    "\n",
    "tools = [get_stock_price]\n",
    "\n",
    "llm = init_chat_model(\"google_genai:gemini-2.0-flash\")\n",
    "llm_with_tools = llm.bind_tools(tools)"
   ]
  },
  {
   "cell_type": "code",
   "execution_count": 13,
   "id": "197cce7c",
   "metadata": {},
   "outputs": [
    {
     "data": {
      "image/png": "[encoded data removed]",
      "text/plain": [
       "<IPython.core.display.Image object>"
      ]
     },
     "metadata": {},
     "output_type": "display_data"
    }
   ],
   "source": [
    "def chatbot(state: State) -> State:\n",
    "    return {\"messages\": [llm_with_tools.invoke(state[\"messages\"])]}\n",
    "\n",
    "builder = StateGraph(State)\n",
    "\n",
    "builder.add_node(\"chatbot\", chatbot)\n",
    "builder.add_node(\"tools\", ToolNode(tools))\n",
    "\n",
    "builder.add_edge(START, \"chatbot\")\n",
    "builder.add_conditional_edges(\"chatbot\", tools_condition)\n",
    "builder.add_edge(\"tools\", \"chatbot\")\n",
    "graph = builder.compile(checkpointer=memory)\n",
    "\n",
    "from IPython.display import Image, display\n",
    "\n",
    "display(Image(graph.get_graph().draw_mermaid_png()))"
   ]
  },
  {
   "cell_type": "code",
   "execution_count": null,
   "id": "b17a492e",
   "metadata": {},
   "outputs": [],
   "source": [
    "config1 = { 'configurable': { 'thread_id': '1'} }\n",
    "config2 = { 'configurable': { 'thread_id': '2'} }"
   ]
  },
  {
   "cell_type": "code",
   "execution_count": null,
   "id": "454e24ed",
   "metadata": {},
   "outputs": [
    {
     "data": {
      "text/plain": [
       "[HumanMessage(content='I want to buy 20 AMZN stocks using current price. Then 15 MSFT. What will be the total cost?', additional_kwargs={}, response_metadata={}, id='ad0c102d-37c8-4eb0-ade5-0c6703f74f0c'),\n",
       " AIMessage(content='', additional_kwargs={'function_call': {'name': 'get_stock_price', 'arguments': '{\"symbol\": \"MSFT\"}'}}, response_metadata={'prompt_feedback': {'block_reason': 0, 'safety_ratings': []}, 'finish_reason': 'STOP', 'model_name': 'gemini-2.0-flash', 'safety_ratings': []}, id='run--881c2779-47ee-470d-8afb-fdb0ba245309-0', tool_calls=[{'name': 'get_stock_price', 'args': {'symbol': 'AMZN'}, 'id': '1ecbc2e0-587a-42d4-a78d-2f5f622514fd', 'type': 'tool_call'}, {'name': 'get_stock_price', 'args': {'symbol': 'MSFT'}, 'id': '8ede4892-851d-4a2a-88cc-a5bcdaca041b', 'type': 'tool_call'}], usage_metadata={'input_tokens': 64, 'output_tokens': 16, 'total_tokens': 80, 'input_token_details': {'cache_read': 0}}),\n",
       " ToolMessage(content='150.0', name='get_stock_price', id='e1ea15da-f827-4cc0-b64f-94cf5e708bfe', tool_call_id='1ecbc2e0-587a-42d4-a78d-2f5f622514fd'),\n",
       " ToolMessage(content='200.3', name='get_stock_price', id='ff92ee19-d276-4bdd-8070-7d7cd6668dff', tool_call_id='8ede4892-851d-4a2a-88cc-a5bcdaca041b'),\n",
       " AIMessage(content='The current price for AMZN is $150 and for MSFT is $200.3.\\nThe total cost for 20 AMZN stocks is 20 * $150 = $3000.\\nThe total cost for 15 MSFT stocks is 15 * $200.3 = $3004.5.\\nTherefore, the total cost for both is $3000 + $3004.5 = $6004.5.', additional_kwargs={}, response_metadata={'prompt_feedback': {'block_reason': 0, 'safety_ratings': []}, 'finish_reason': 'STOP', 'model_name': 'gemini-2.0-flash', 'safety_ratings': []}, id='run--f65c3e7a-b505-4804-95f6-4fc9a23aff9b-0', usage_metadata={'input_tokens': 94, 'output_tokens': 112, 'total_tokens': 206, 'input_token_details': {'cache_read': 0}}),\n",
       " HumanMessage(content='I want to buy 20 AMZN stocks using current price. Then 15 MSFT. What will be the total cost?', additional_kwargs={}, response_metadata={}, id='53c54961-d09e-47bc-bad0-5f21fc026702'),\n",
       " AIMessage(content='', additional_kwargs={'function_call': {'name': 'get_stock_price', 'arguments': '{\"symbol\": \"MSFT\"}'}}, response_metadata={'prompt_feedback': {'block_reason': 0, 'safety_ratings': []}, 'finish_reason': 'STOP', 'model_name': 'gemini-2.0-flash', 'safety_ratings': []}, id='run--fecef0b1-f373-46b7-a1bf-1c3b99117388-0', tool_calls=[{'name': 'get_stock_price', 'args': {'symbol': 'AMZN'}, 'id': 'a7673165-43cf-4f80-8938-08b91720d146', 'type': 'tool_call'}, {'name': 'get_stock_price', 'args': {'symbol': 'MSFT'}, 'id': 'f113d646-bf6c-4639-9c27-bfa97c8e9b09', 'type': 'tool_call'}], usage_metadata={'input_tokens': 234, 'output_tokens': 16, 'total_tokens': 250, 'input_token_details': {'cache_read': 0}}),\n",
       " ToolMessage(content='150.0', name='get_stock_price', id='d18009c5-e6a5-4bf6-98b9-c157e4508951', tool_call_id='a7673165-43cf-4f80-8938-08b91720d146'),\n",
       " ToolMessage(content='200.3', name='get_stock_price', id='ec108298-b79b-4489-9d03-de8f5906e121', tool_call_id='f113d646-bf6c-4639-9c27-bfa97c8e9b09'),\n",
       " AIMessage(content='Okay, I have the stock prices.\\n\\nThe current price for AMZN is $150. Buying 20 shares will cost 20 * $150 = $3000.\\nThe current price for MSFT is $200.3. Buying 15 shares will cost 15 * $200.3 = $3004.5.\\n\\nTherefore, the total cost for both transactions will be $3000 + $3004.5 = $6004.5.', additional_kwargs={}, response_metadata={'prompt_feedback': {'block_reason': 0, 'safety_ratings': []}, 'finish_reason': 'STOP', 'model_name': 'gemini-2.0-flash', 'safety_ratings': []}, id='run--618412fc-d9e7-45d7-b9ef-da81088a22a8-0', usage_metadata={'input_tokens': 264, 'output_tokens': 118, 'total_tokens': 382, 'input_token_details': {'cache_read': 0}}),\n",
       " HumanMessage(content='I want to buy 20 AMZN stocks using current price. Then 15 MSFT. What will be the total cost?', additional_kwargs={}, response_metadata={}, id='be6981d8-c778-4c2d-be46-5ac6511bfc63'),\n",
       " AIMessage(content='', additional_kwargs={'function_call': {'name': 'get_stock_price', 'arguments': '{\"symbol\": \"MSFT\"}'}}, response_metadata={'prompt_feedback': {'block_reason': 0, 'safety_ratings': []}, 'finish_reason': 'STOP', 'model_name': 'gemini-2.0-flash', 'safety_ratings': []}, id='run--1bddf714-4f29-44c3-9db3-e1cb628cc410-0', tool_calls=[{'name': 'get_stock_price', 'args': {'symbol': 'AMZN'}, 'id': '60f594df-2b96-47ea-8934-ce1dcfa6caee', 'type': 'tool_call'}, {'name': 'get_stock_price', 'args': {'symbol': 'MSFT'}, 'id': '315bf0aa-5e2a-4bcd-8560-f60f2dc15f3f', 'type': 'tool_call'}], usage_metadata={'input_tokens': 409, 'output_tokens': 16, 'total_tokens': 425, 'input_token_details': {'cache_read': 0}}),\n",
       " ToolMessage(content='150.0', name='get_stock_price', id='b11fad73-dc36-43a3-9e4b-b1e120bc69bf', tool_call_id='60f594df-2b96-47ea-8934-ce1dcfa6caee'),\n",
       " ToolMessage(content='200.3', name='get_stock_price', id='f1765a4c-c207-45a3-9c78-3874b968ab42', tool_call_id='315bf0aa-5e2a-4bcd-8560-f60f2dc15f3f'),\n",
       " AIMessage(content='Okay, I have the stock prices.\\n\\nThe current price for AMZN is $150. Buying 20 shares will cost 20 * $150 = $3000.\\nThe current price for MSFT is $200.3. Buying 15 shares will cost 15 * $200.3 = $3004.5.\\n\\nTherefore, the total cost for both transactions will be $3000 + $3004.5 = $6004.5.', additional_kwargs={}, response_metadata={'prompt_feedback': {'block_reason': 0, 'safety_ratings': []}, 'finish_reason': 'STOP', 'model_name': 'gemini-2.0-flash', 'safety_ratings': []}, id='run--a8ae4634-2a5b-46b4-8e53-243950757afe-0', usage_metadata={'input_tokens': 439, 'output_tokens': 118, 'total_tokens': 557, 'input_token_details': {'cache_read': 0}}),\n",
       " HumanMessage(content='I want to buy 20 AMZN stocks using current price. Then 15 MSFT. What will be the total cost?', additional_kwargs={}, response_metadata={}, id='73d259c3-2698-438c-9cf6-3718c2c4a02b'),\n",
       " AIMessage(content='', additional_kwargs={'function_call': {'name': 'get_stock_price', 'arguments': '{\"symbol\": \"MSFT\"}'}}, response_metadata={'prompt_feedback': {'block_reason': 0, 'safety_ratings': []}, 'finish_reason': 'STOP', 'model_name': 'gemini-2.0-flash', 'safety_ratings': []}, id='run--84b9fe4d-fc8d-4ca8-80e7-16832962cf7a-0', tool_calls=[{'name': 'get_stock_price', 'args': {'symbol': 'AMZN'}, 'id': 'a68c73d8-8398-452b-855a-62430ea875be', 'type': 'tool_call'}, {'name': 'get_stock_price', 'args': {'symbol': 'MSFT'}, 'id': '419588ac-4026-4c95-a51a-d024a4bd46ee', 'type': 'tool_call'}], usage_metadata={'input_tokens': 584, 'output_tokens': 16, 'total_tokens': 600, 'input_token_details': {'cache_read': 0}}),\n",
       " ToolMessage(content='150.0', name='get_stock_price', id='941da25d-4b52-471e-9dd2-9dae5f0f0b39', tool_call_id='a68c73d8-8398-452b-855a-62430ea875be'),\n",
       " ToolMessage(content='200.3', name='get_stock_price', id='99cdbfab-0e06-4338-854a-5e2118751147', tool_call_id='419588ac-4026-4c95-a51a-d024a4bd46ee'),\n",
       " AIMessage(content='Okay, I have the stock prices.\\n\\nThe current price for AMZN is $150. Buying 20 shares will cost 20 * $150 = $3000.\\nThe current price for MSFT is $200.3. Buying 15 shares will cost 15 * $200.3 = $3004.5.\\n\\nTherefore, the total cost for both transactions will be $3000 + $3004.5 = $6004.5.', additional_kwargs={}, response_metadata={'prompt_feedback': {'block_reason': 0, 'safety_ratings': []}, 'finish_reason': 'STOP', 'model_name': 'gemini-2.0-flash', 'safety_ratings': []}, id='run--838c1fc6-1bc9-41d2-9a5e-8c2d3e74c3b7-0', usage_metadata={'input_tokens': 614, 'output_tokens': 117, 'total_tokens': 731, 'input_token_details': {'cache_read': 0}}),\n",
       " HumanMessage(content='I want to buy 20 AMZN stocks using current price. Then 15 MSFT. What will be the total cost?', additional_kwargs={}, response_metadata={}, id='a47c0d8a-b055-453a-9cb7-6085947543ca'),\n",
       " AIMessage(content='', additional_kwargs={'function_call': {'name': 'get_stock_price', 'arguments': '{\"symbol\": \"MSFT\"}'}}, response_metadata={'prompt_feedback': {'block_reason': 0, 'safety_ratings': []}, 'finish_reason': 'STOP', 'model_name': 'gemini-2.0-flash', 'safety_ratings': []}, id='run--5d081fd8-30ac-4c5a-b553-aaf3e6509f13-0', tool_calls=[{'name': 'get_stock_price', 'args': {'symbol': 'AMZN'}, 'id': 'a8dff990-f45b-4f66-906d-8bfae0683e78', 'type': 'tool_call'}, {'name': 'get_stock_price', 'args': {'symbol': 'MSFT'}, 'id': '7fc4ba20-0da6-4a6d-adcd-b823fdf799d6', 'type': 'tool_call'}], usage_metadata={'input_tokens': 759, 'output_tokens': 16, 'total_tokens': 775, 'input_token_details': {'cache_read': 0}}),\n",
       " ToolMessage(content='150.0', name='get_stock_price', id='a3f673b1-fde8-4b56-8c9c-721096cb3556', tool_call_id='a8dff990-f45b-4f66-906d-8bfae0683e78'),\n",
       " ToolMessage(content='200.3', name='get_stock_price', id='10791398-c10f-46e3-9698-25733a2ec904', tool_call_id='7fc4ba20-0da6-4a6d-adcd-b823fdf799d6'),\n",
       " AIMessage(content='Okay, I have the stock prices.\\n\\nThe current price for AMZN is $150. Buying 20 shares will cost 20 * $150 = $3000.\\nThe current price for MSFT is $200.3. Buying 15 shares will cost 15 * $200.3 = $3004.5.\\n\\nTherefore, the total cost for both transactions will be $3000 + $3004.5 = $6004.5.', additional_kwargs={}, response_metadata={'prompt_feedback': {'block_reason': 0, 'safety_ratings': []}, 'finish_reason': 'STOP', 'model_name': 'gemini-2.0-flash', 'safety_ratings': []}, id='run--7776da17-7314-41b3-aa75-3aa293505edc-0', usage_metadata={'input_tokens': 789, 'output_tokens': 117, 'total_tokens': 906, 'input_token_details': {'cache_read': 0}}),\n",
       " HumanMessage(content='I want to buy 20 AMZN stocks using current price. Then 15 MSFT. What will be the total cost?', additional_kwargs={}, response_metadata={}, id='54679beb-a128-45f9-a46e-d63572ca55ee'),\n",
       " AIMessage(content='', additional_kwargs={'function_call': {'name': 'get_stock_price', 'arguments': '{\"symbol\": \"MSFT\"}'}}, response_metadata={'prompt_feedback': {'block_reason': 0, 'safety_ratings': []}, 'finish_reason': 'STOP', 'model_name': 'gemini-2.0-flash', 'safety_ratings': []}, id='run--14edb85b-aaf6-4ac0-85b8-56c670d6687a-0', tool_calls=[{'name': 'get_stock_price', 'args': {'symbol': 'AMZN'}, 'id': 'dfaa8ee9-0803-45a1-a603-1cfa353fc414', 'type': 'tool_call'}, {'name': 'get_stock_price', 'args': {'symbol': 'MSFT'}, 'id': '64f010c9-5588-4bd3-a503-1fb24c2f9d98', 'type': 'tool_call'}], usage_metadata={'input_tokens': 934, 'output_tokens': 16, 'total_tokens': 950, 'input_token_details': {'cache_read': 0}}),\n",
       " ToolMessage(content='150.0', name='get_stock_price', id='530e9733-f3cf-4f15-afb2-848e07fd707c', tool_call_id='dfaa8ee9-0803-45a1-a603-1cfa353fc414'),\n",
       " ToolMessage(content='200.3', name='get_stock_price', id='20e20479-2f36-4ffb-9d71-8f856faf147a', tool_call_id='64f010c9-5588-4bd3-a503-1fb24c2f9d98'),\n",
       " AIMessage(content='Okay, I have the stock prices.\\n\\nThe current price for AMZN is $150. Buying 20 shares will cost 20 * $150 = $3000.\\nThe current price for MSFT is $200.3. Buying 15 shares will cost 15 * $200.3 = $3004.5.\\n\\nTherefore, the total cost for both transactions will be $3000 + $3004.5 = $6004.5.', additional_kwargs={}, response_metadata={'prompt_feedback': {'block_reason': 0, 'safety_ratings': []}, 'finish_reason': 'STOP', 'model_name': 'gemini-2.0-flash', 'safety_ratings': []}, id='run--5a174ead-132b-4fcd-8c49-7909c143ab12-0', usage_metadata={'input_tokens': 964, 'output_tokens': 117, 'total_tokens': 1081, 'input_token_details': {'cache_read': 0}}),\n",
       " HumanMessage(content='I want to buy 20 AMZN stocks using current price. Then 15 MSFT. What will be the total cost?', additional_kwargs={}, response_metadata={}, id='d334beef-895f-4899-b9bf-48b132156d54'),\n",
       " AIMessage(content='', additional_kwargs={'function_call': {'name': 'get_stock_price', 'arguments': '{\"symbol\": \"MSFT\"}'}}, response_metadata={'prompt_feedback': {'block_reason': 0, 'safety_ratings': []}, 'finish_reason': 'STOP', 'model_name': 'gemini-2.0-flash', 'safety_ratings': []}, id='run--93e54a66-04da-4f81-b4cb-e9c2a413aa40-0', tool_calls=[{'name': 'get_stock_price', 'args': {'symbol': 'AMZN'}, 'id': '48316920-e87e-402d-832c-4777cfa87bc6', 'type': 'tool_call'}, {'name': 'get_stock_price', 'args': {'symbol': 'MSFT'}, 'id': '60ce7af9-e6f9-4194-bdf7-34f6b77985b1', 'type': 'tool_call'}], usage_metadata={'input_tokens': 1109, 'output_tokens': 16, 'total_tokens': 1125, 'input_token_details': {'cache_read': 0}}),\n",
       " ToolMessage(content='150.0', name='get_stock_price', id='b50be581-8bdd-4257-87f3-bf129910dd77', tool_call_id='48316920-e87e-402d-832c-4777cfa87bc6'),\n",
       " ToolMessage(content='200.3', name='get_stock_price', id='1a8db558-9df0-4886-9118-c7e1017b9b85', tool_call_id='60ce7af9-e6f9-4194-bdf7-34f6b77985b1'),\n",
       " AIMessage(content='Okay, I have the stock prices.\\n\\nThe current price for AMZN is $150. Buying 20 shares will cost 20 * $150 = $3000.\\nThe current price for MSFT is $200.3. Buying 15 shares will cost 15 * $200.3 = $3004.5.\\n\\nTherefore, the total cost for both transactions will be $3000 + $3004.5 = $6004.5.', additional_kwargs={}, response_metadata={'prompt_feedback': {'block_reason': 0, 'safety_ratings': []}, 'finish_reason': 'STOP', 'model_name': 'gemini-2.0-flash', 'safety_ratings': []}, id='run--a2c340c1-d08d-483b-bfcc-5a48a660a75b-0', usage_metadata={'input_tokens': 1139, 'output_tokens': 117, 'total_tokens': 1256, 'input_token_details': {'cache_read': 0}}),\n",
       " HumanMessage(content='I want to buy 20 AMZN stocks using current price. Then 15 MSFT. What will be the total cost?', additional_kwargs={}, response_metadata={}, id='b1d070fb-03e9-4966-952e-c55d1754043c'),\n",
       " AIMessage(content='', additional_kwargs={'function_call': {'name': 'get_stock_price', 'arguments': '{\"symbol\": \"MSFT\"}'}}, response_metadata={'prompt_feedback': {'block_reason': 0, 'safety_ratings': []}, 'finish_reason': 'STOP', 'model_name': 'gemini-2.0-flash', 'safety_ratings': []}, id='run--83fead9b-dd55-4678-9a99-8df02496f865-0', tool_calls=[{'name': 'get_stock_price', 'args': {'symbol': 'AMZN'}, 'id': 'c2918fff-f7e4-4469-a13c-0c937d5f0d9b', 'type': 'tool_call'}, {'name': 'get_stock_price', 'args': {'symbol': 'MSFT'}, 'id': '14ba32f6-5959-47e5-ae15-d932b8f84a65', 'type': 'tool_call'}], usage_metadata={'input_tokens': 1284, 'output_tokens': 16, 'total_tokens': 1300, 'input_token_details': {'cache_read': 0}}),\n",
       " ToolMessage(content='150.0', name='get_stock_price', id='13d16c05-8be1-4cb3-a3d8-5093f27be8db', tool_call_id='c2918fff-f7e4-4469-a13c-0c937d5f0d9b'),\n",
       " ToolMessage(content='200.3', name='get_stock_price', id='edc62876-2684-41ca-994a-33911079172b', tool_call_id='14ba32f6-5959-47e5-ae15-d932b8f84a65'),\n",
       " AIMessage(content='Okay, I have the stock prices.\\n\\nThe current price for AMZN is $150. Buying 20 shares will cost 20 * $150 = $3000.\\nThe current price for MSFT is $200.3. Buying 15 shares will cost 15 * $200.3 = $3004.5.\\n\\nTherefore, the total cost for both transactions will be $3000 + $3004.5 = $6004.5.', additional_kwargs={}, response_metadata={'prompt_feedback': {'block_reason': 0, 'safety_ratings': []}, 'finish_reason': 'STOP', 'model_name': 'gemini-2.0-flash', 'safety_ratings': []}, id='run--7bd4441b-b79e-477a-a6c0-92e662edf0cf-0', usage_metadata={'input_tokens': 1314, 'output_tokens': 117, 'total_tokens': 1431, 'input_token_details': {'cache_read': 0}})]"
      ]
     },
     "execution_count": 22,
     "metadata": {},
     "output_type": "execute_result"
    }
   ],
   "source": [
    "from langsmith import traceable\n",
    "\n",
    "@traceable\n",
    "def call_graph(query: str, config: dict):\n",
    "    state = graph.invoke({\"messages\": [{\"role\": \"user\", \"content\": query}]}, config=config)\n",
    "    return state[\"messages\"][-1].content\n",
    "\n",
    "@traceable\n",
    "def get_messages_by_thread(config: dict):\n",
    "    if \"configurable\" not in config or \"thread_id\" not in config[\"configurable\"]:\n",
    "        raise ValueError(\"Missing 'thread_id' in config['configurable']\")\n",
    "    state = memory.get(config)\n",
    "    if not state:\n",
    "        raise ValueError(f\"No state found for thread_id: {config['configurable']['thread_id']}\")\n",
    "\n",
    "    return state[\"channel_values\"][\"messages\"]\n",
    "\n",
    "call_graph(\"I want to buy 20 AMZN stocks using current price. Then 15 MSFT. What will be the total cost?\", config1)\n",
    "get_messages_by_thread(config1)"
   ]
  },
  {
   "cell_type": "code",
   "execution_count": 23,
   "id": "62f44807",
   "metadata": {},
   "outputs": [
    {
     "data": {
      "text/plain": [
       "[HumanMessage(content='Tell me the current price of 5 MSFT stocks and add it to previous total', additional_kwargs={}, response_metadata={}, id='865b3a07-d680-43f7-9518-1a7cd60ef7b4'),\n",
       " AIMessage(content=\"I can get you the current price of one MSFT stock, but I can't calculate the price of 5 stocks or add it to a previous total. Would you like me to get the current price of one MSFT stock?\", additional_kwargs={}, response_metadata={'prompt_feedback': {'block_reason': 0, 'safety_ratings': []}, 'finish_reason': 'STOP', 'model_name': 'gemini-2.0-flash', 'safety_ratings': []}, id='run--77ada1e8-333e-4e2b-b383-fddcacdc5367-0', usage_metadata={'input_tokens': 53, 'output_tokens': 49, 'total_tokens': 102, 'input_token_details': {'cache_read': 0}})]"
      ]
     },
     "execution_count": 23,
     "metadata": {},
     "output_type": "execute_result"
    }
   ],
   "source": [
    "call_graph(\"Tell me the current price of 5 MSFT stocks and add it to previous total\",  config2)\n",
    "get_messages_by_thread(config2)"
   ]
  }
 ],
 "metadata": {
  "kernelspec": {
   "display_name": "Python 3 (ipykernel)",
   "language": "python",
   "name": "python3"
  },
  "language_info": {
   "codemirror_mode": {
    "name": "ipython",
    "version": 3
   },
   "file_extension": ".py",
   "mimetype": "text/x-python",
   "name": "python",
   "nbconvert_exporter": "python",
   "pygments_lexer": "ipython3",
   "version": "3.13.7"
  }
 },
 "nbformat": 4,
 "nbformat_minor": 5
}
