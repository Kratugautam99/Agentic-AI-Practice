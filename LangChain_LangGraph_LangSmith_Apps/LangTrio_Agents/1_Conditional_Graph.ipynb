{
 "cells": [
  {
   "cell_type": "code",
   "execution_count": 22,
   "id": "016299d2",
   "metadata": {},
   "outputs": [],
   "source": [
    "from typing import TypedDict, Literal\n",
    "\n",
    "class DematAcc(TypedDict):\n",
    "    inr_invested_amt: float\n",
    "    inr_total_amt: float\n",
    "    cny_total_amt: float\n",
    "    eur_total_amt: float\n",
    "    target_curr: Literal[\"EUR\", \"CNY\"]"
   ]
  },
  {
   "cell_type": "code",
   "execution_count": 23,
   "id": "8d31d019",
   "metadata": {},
   "outputs": [],
   "source": [
    "def calc_total(state: DematAcc) -> DematAcc:\n",
    "    state[\"inr_total_amt\"] = state[\"inr_invested_amt\"] * 1.10\n",
    "    return state\n",
    "\n",
    "def convert_cny(state: DematAcc) -> DematAcc:\n",
    "    state[\"cny_total_amt\"] = state[\"inr_total_amt\"] / 12.37\n",
    "    return state\n",
    "\n",
    "def convert_eur(state: DematAcc) -> DematAcc:\n",
    "    state[\"eur_total_amt\"] = state[\"inr_total_amt\"] / 103.11\n",
    "    return state\n",
    "\n",
    "def determination_func(state: DematAcc) -> str:\n",
    "    return state[\"target_curr\"]"
   ]
  },
  {
   "cell_type": "code",
   "execution_count": 24,
   "id": "1110b547",
   "metadata": {},
   "outputs": [
    {
     "data": {
      "image/png": "[encoded data removed]",
      "text/plain": [
       "<IPython.core.display.Image object>"
      ]
     },
     "metadata": {},
     "output_type": "display_data"
    }
   ],
   "source": [
    "from langgraph.graph import START, END, StateGraph\n",
    "\n",
    "builder = StateGraph(DematAcc)\n",
    "\n",
    "builder.add_node(\"total_calculation_node\", calc_total)\n",
    "builder.add_node(\"euro_conversion_node\", convert_eur)\n",
    "builder.add_node(\"yuan_conversion_node\", convert_cny)\n",
    "\n",
    "builder.add_edge(START, \"total_calculation_node\")\n",
    "builder.add_conditional_edges(\n",
    "    \"total_calculation_node\", \n",
    "    determination_func, \n",
    "    {\n",
    "        \"EUR\": \"euro_conversion_node\", \n",
    "        \"CNY\": \"yuan_conversion_node\",\n",
    "        }\n",
    "    )\n",
    "builder.add_edge([\"euro_conversion_node\", \"yuan_conversion_node\"], END)\n",
    "\n",
    "graph = builder.compile()\n",
    "\n",
    "from IPython.display import Image, display\n",
    "\n",
    "display(Image(graph.get_graph().draw_mermaid_png()))"
   ]
  },
  {
   "cell_type": "code",
   "execution_count": 25,
   "id": "da50e7ca",
   "metadata": {},
   "outputs": [
    {
     "name": "stdout",
     "output_type": "stream",
     "text": [
      "                       +-----------+                         \n",
      "                       | __start__ |                         \n",
      "                       +-----------+                         \n",
      "                              *                              \n",
      "                              *                              \n",
      "                              *                              \n",
      "                +------------------------+                   \n",
      "                | total_calculation_node |                   \n",
      "                +------------------------+                   \n",
      "                    ...              ...                     \n",
      "                 ...                    ...                  \n",
      "               ..                          ..                \n",
      "+----------------------+           +----------------------+  \n",
      "| euro_conversion_node |           | yuan_conversion_node |  \n",
      "+----------------------+           +----------------------+  \n",
      "                    ***              ***                     \n",
      "                       ***        ***                        \n",
      "                          **    **                           \n",
      "                        +---------+                          \n",
      "                        | __end__ |                          \n",
      "                        +---------+                          \n"
     ]
    }
   ],
   "source": [
    "graph.get_graph().print_ascii()\n"
   ]
  },
  {
   "cell_type": "code",
   "execution_count": 26,
   "id": "7cb8ff17",
   "metadata": {},
   "outputs": [
    {
     "data": {
      "text/plain": [
       "{'inr_invested_amt': 1000000,\n",
       " 'inr_total_amt': 1100000.0,\n",
       " 'cny_total_amt': 88924.8181083266,\n",
       " 'target_curr': 'CNY'}"
      ]
     },
     "execution_count": 26,
     "metadata": {},
     "output_type": "execute_result"
    }
   ],
   "source": [
    "graph.invoke({\"inr_invested_amt\":1000000, \"target_curr\":\"CNY\"})"
   ]
  },
  {
   "cell_type": "code",
   "execution_count": 27,
   "id": "7ff63fdd",
   "metadata": {},
   "outputs": [
    {
     "data": {
      "text/plain": [
       "{'inr_invested_amt': 1000000,\n",
       " 'inr_total_amt': 1100000.0,\n",
       " 'eur_total_amt': 10668.218407525943,\n",
       " 'target_curr': 'EUR'}"
      ]
     },
     "execution_count": 27,
     "metadata": {},
     "output_type": "execute_result"
    }
   ],
   "source": [
    "graph.invoke({\"inr_invested_amt\":1000000, \"target_curr\":\"EUR\"})"
   ]
  }
 ],
 "metadata": {
  "kernelspec": {
   "display_name": "Python 3 (ipykernel)",
   "language": "python",
   "name": "python3"
  }
 },
 "nbformat": 4,
 "nbformat_minor": 5
}
